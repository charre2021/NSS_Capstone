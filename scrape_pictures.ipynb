{
 "cells": [
  {
   "cell_type": "code",
   "execution_count": 1,
   "id": "19560e0a",
   "metadata": {},
   "outputs": [],
   "source": [
    "from bs4 import BeautifulSoup\n",
    "from urllib.request import urlopen, urlretrieve\n",
    "from tqdm import tqdm\n",
    "import urllib\n",
    "import time\n",
    "\n",
    "base_url = 'https://onetinyhand.com/'\n",
    "\n",
    "class Url_Data:\n",
    "    \n",
    "    def __init__(self, url, identifier):\n",
    "        self._url = url\n",
    "        self._identifier = identifier\n",
    "        self._soup = self.make_soup(self._url)\n",
    "        self._image_links = self.create_image_links(self._soup)\n",
    "        \n",
    "    def get_url(self):\n",
    "        return self._url\n",
    "    \n",
    "    def get_soup(self):\n",
    "        return self._soup\n",
    "    \n",
    "    def get_image_links(self):\n",
    "        return self._image_links\n",
    "    \n",
    "    def get_identifier(self):\n",
    "        return self._identifier\n",
    "        \n",
    "    def make_soup(self, url):\n",
    "        html = urlopen(url).read()\n",
    "        return BeautifulSoup(html, 'html.parser')\n",
    "    \n",
    "    def create_image_links(self, soup):\n",
    "        images = [img for img in soup.find_all('img')]\n",
    "        return [link for link in [image.get('src') for image in images] if '64.media' in link]\n",
    "\n",
    "    def save_images(self):\n",
    "        for image in self._image_links:\n",
    "            filename = image.split('/')[-1]\n",
    "            urlretrieve(image, './data/' + filename)\n",
    "        return True\n",
    "\n",
    "Url_Data_list = []\n",
    "for i in range(1,52):\n",
    "    if i == 1:\n",
    "        url = base_url\n",
    "    else:\n",
    "        url = base_url + 'page/' + f'{i}'\n",
    "    url_data = Url_Data(url = url, identifier = i)\n",
    "    Url_Data_list.append(url_data)"
   ]
  },
  {
   "cell_type": "code",
   "execution_count": 2,
   "id": "3383548a",
   "metadata": {},
   "outputs": [
    {
     "name": "stderr",
     "output_type": "stream",
     "text": [
      "100%|██████████| 51/51 [04:08<00:00,  4.88s/it]\n"
     ]
    }
   ],
   "source": [
    "cntr = 1\n",
    "for i in tqdm(Url_Data_list):\n",
    "    try:\n",
    "        i.save_images()\n",
    "    except URLError:\n",
    "        try:\n",
    "            time.sleep(0.5)\n",
    "            i.save_images()\n",
    "        except:\n",
    "            print(i + '\\n')\n",
    "            print(cntr)\n",
    "            pass\n",
    "    cntr += 1"
   ]
  }
 ],
 "metadata": {
  "kernelspec": {
   "display_name": "Python 3 (ipykernel)",
   "language": "python",
   "name": "python3"
  },
  "language_info": {
   "codemirror_mode": {
    "name": "ipython",
    "version": 3
   },
   "file_extension": ".py",
   "mimetype": "text/x-python",
   "name": "python",
   "nbconvert_exporter": "python",
   "pygments_lexer": "ipython3",
   "version": "3.9.12"
  }
 },
 "nbformat": 4,
 "nbformat_minor": 5
}
